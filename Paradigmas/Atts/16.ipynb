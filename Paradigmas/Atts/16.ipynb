{
 "cells": [
  {
   "cell_type": "code",
   "execution_count": 9,
   "metadata": {},
   "outputs": [],
   "source": [
    "preco_lata=80\n",
    "tamanho_lata=18\n",
    "area_M4=float(input(\"Informe a area a ser pintada: \"))"
   ]
  },
  {
   "cell_type": "code",
   "execution_count": 10,
   "metadata": {},
   "outputs": [
    {
     "name": "stdout",
     "output_type": "stream",
     "text": [
      "O total de latas a serem compradas é:2 \n"
     ]
    }
   ],
   "source": [
    "litros=round((area_M4/3)/tamanho_lata)\n",
    "print(f\"O total de latas a serem compradas é:{litros} \")"
   ]
  },
  {
   "cell_type": "code",
   "execution_count": 11,
   "metadata": {},
   "outputs": [
    {
     "name": "stdout",
     "output_type": "stream",
     "text": [
      "O total a ser pago nas latas é: 160.00\n"
     ]
    }
   ],
   "source": [
    "preco_total=litros*preco_lata\n",
    "print(f\"O total a ser pago nas latas é: %.2f\"%preco_total)"
   ]
  }
 ],
 "metadata": {
  "kernelspec": {
   "display_name": "Python 3",
   "language": "python",
   "name": "python3"
  },
  "language_info": {
   "codemirror_mode": {
    "name": "ipython",
    "version": 3
   },
   "file_extension": ".py",
   "mimetype": "text/x-python",
   "name": "python",
   "nbconvert_exporter": "python",
   "pygments_lexer": "ipython3",
   "version": "3.12.6"
  }
 },
 "nbformat": 4,
 "nbformat_minor": 2
}
